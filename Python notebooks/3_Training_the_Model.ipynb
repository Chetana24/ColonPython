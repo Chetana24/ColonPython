{
  "nbformat": 4,
  "nbformat_minor": 0,
  "metadata": {
    "colab": {
      "name": "3. Training the Model",
      "provenance": []
    },
    "kernelspec": {
      "name": "python3",
      "display_name": "Python 3"
    },
    "accelerator": "GPU"
  },
  "cells": [
    {
      "cell_type": "markdown",
      "metadata": {
        "id": "BpzX_2H_uwTE",
        "colab_type": "text"
      },
      "source": [
        "#**3. Training the model**"
      ]
    },
    {
      "cell_type": "code",
      "metadata": {
        "id": "iAAoeA8L8cdI",
        "colab_type": "code",
        "colab": {
          "base_uri": "https://localhost:8080/",
          "height": 34
        },
        "outputId": "540e773b-0fe6-455a-f037-ccf56d2bdfb2"
      },
      "source": [
        "%tensorflow_version 2.x\n",
        "import tensorflow as tf\n",
        "device_name = tf.test.gpu_device_name()\n",
        "if device_name != '/device:GPU:0':\n",
        "  raise SystemError('GPU device not found')\n",
        "print('Found GPU at: {}'.format(device_name))"
      ],
      "execution_count": 1,
      "outputs": [
        {
          "output_type": "stream",
          "text": [
            "Found GPU at: /device:GPU:0\n"
          ],
          "name": "stdout"
        }
      ]
    },
    {
      "cell_type": "code",
      "metadata": {
        "id": "H6FfKEt38-aQ",
        "colab_type": "code",
        "colab": {
          "base_uri": "https://localhost:8080/",
          "height": 125
        },
        "outputId": "500eb532-75e4-4b7f-f956-76d2d9e07f59"
      },
      "source": [
        "from google.colab import drive\n",
        "drive.mount('/content/drive')"
      ],
      "execution_count": 2,
      "outputs": [
        {
          "output_type": "stream",
          "text": [
            "Go to this URL in a browser: https://accounts.google.com/o/oauth2/auth?client_id=947318989803-6bn6qk8qdgf4n4g3pfee6491hc0brc4i.apps.googleusercontent.com&redirect_uri=urn%3aietf%3awg%3aoauth%3a2.0%3aoob&response_type=code&scope=email%20https%3a%2f%2fwww.googleapis.com%2fauth%2fdocs.test%20https%3a%2f%2fwww.googleapis.com%2fauth%2fdrive%20https%3a%2f%2fwww.googleapis.com%2fauth%2fdrive.photos.readonly%20https%3a%2f%2fwww.googleapis.com%2fauth%2fpeopleapi.readonly\n",
            "\n",
            "Enter your authorization code:\n",
            "··········\n",
            "Mounted at /content/drive\n"
          ],
          "name": "stdout"
        }
      ]
    },
    {
      "cell_type": "markdown",
      "metadata": {
        "id": "Ofb3lbd1vXYu",
        "colab_type": "text"
      },
      "source": [
        "#Loading Dataset"
      ]
    },
    {
      "cell_type": "code",
      "metadata": {
        "id": "-x23DbamulR2",
        "colab_type": "code",
        "colab": {}
      },
      "source": [
        "import pickle"
      ],
      "execution_count": 0,
      "outputs": []
    },
    {
      "cell_type": "code",
      "metadata": {
        "id": "vxPCBzMIuvZd",
        "colab_type": "code",
        "colab": {}
      },
      "source": [
        "X_train=pickle.load(open(\"/content/drive/My Drive/Bin-Py/X_train.pkl\",\"rb\"))\n",
        "y_train=pickle.load(open(\"/content/drive/My Drive/Bin-Py/y_train.pkl\",\"rb\"))\n",
        "X_test=pickle.load(open(\"/content/drive/My Drive/Bin-Py/X_test.pkl\",\"rb\"))\n",
        "y_test=pickle.load(open(\"/content/drive/My Drive/Bin-Py/y_test.pkl\",\"rb\"))"
      ],
      "execution_count": 0,
      "outputs": []
    },
    {
      "cell_type": "markdown",
      "metadata": {
        "id": "b4um6bKCv2nd",
        "colab_type": "text"
      },
      "source": [
        "#Preparing the model"
      ]
    },
    {
      "cell_type": "code",
      "metadata": {
        "id": "VSSIBPnyvVRP",
        "colab_type": "code",
        "colab": {}
      },
      "source": [
        "import tensorflow as tf\n",
        "from tensorflow.keras.models import Sequential\n",
        "from tensorflow.keras.layers import Conv2D, MaxPool2D\n",
        "from tensorflow.keras.layers import Flatten, Dense, Dropout"
      ],
      "execution_count": 0,
      "outputs": []
    },
    {
      "cell_type": "code",
      "metadata": {
        "id": "egV5Llpxv_1o",
        "colab_type": "code",
        "colab": {}
      },
      "source": [
        "cnn_model = Sequential()"
      ],
      "execution_count": 0,
      "outputs": []
    },
    {
      "cell_type": "code",
      "metadata": {
        "id": "FiekJt2zwHjj",
        "colab_type": "code",
        "colab": {}
      },
      "source": [
        "cnn_model.add(\n",
        "    Conv2D(\n",
        "        filters=32,\n",
        "        kernel_size=[3,3],\n",
        "        strides=(1,1),\n",
        "        padding='valid',\n",
        "        activation='relu',\n",
        "        input_shape=[300, 300, 3]\n",
        "    )\n",
        ")"
      ],
      "execution_count": 0,
      "outputs": []
    },
    {
      "cell_type": "code",
      "metadata": {
        "id": "5UosAMNBwLQo",
        "colab_type": "code",
        "colab": {}
      },
      "source": [
        "cnn_model.add(MaxPool2D())"
      ],
      "execution_count": 0,
      "outputs": []
    },
    {
      "cell_type": "code",
      "metadata": {
        "id": "9mZ3Ztj4wOtj",
        "colab_type": "code",
        "colab": {}
      },
      "source": [
        "cnn_model.add(\n",
        "    Conv2D(\n",
        "        filters=64,\n",
        "        kernel_size=[3,3],\n",
        "        strides=(1,1),\n",
        "        padding='valid',\n",
        "        activation='relu'\n",
        "    )\n",
        ")"
      ],
      "execution_count": 0,
      "outputs": []
    },
    {
      "cell_type": "code",
      "metadata": {
        "id": "2LlteKPRwRq5",
        "colab_type": "code",
        "colab": {}
      },
      "source": [
        "cnn_model.add(\n",
        "    Conv2D(\n",
        "        filters=64,\n",
        "        kernel_size=[3,3],\n",
        "        strides=(1,1),\n",
        "        padding='valid',\n",
        "        activation='relu'\n",
        "    )\n",
        ")"
      ],
      "execution_count": 0,
      "outputs": []
    },
    {
      "cell_type": "code",
      "metadata": {
        "id": "36YoK4kJwVjA",
        "colab_type": "code",
        "colab": {}
      },
      "source": [
        "cnn_model.add(MaxPool2D())"
      ],
      "execution_count": 0,
      "outputs": []
    },
    {
      "cell_type": "code",
      "metadata": {
        "id": "7Abxq85xwaUE",
        "colab_type": "code",
        "colab": {}
      },
      "source": [
        "cnn_model.add(\n",
        "    Conv2D(\n",
        "        filters=128,\n",
        "        kernel_size=[3,3],\n",
        "        strides=(1,1),\n",
        "        padding='valid',\n",
        "        activation='relu'\n",
        "    )\n",
        ")"
      ],
      "execution_count": 0,
      "outputs": []
    },
    {
      "cell_type": "code",
      "metadata": {
        "id": "SMHqNQwDwfA7",
        "colab_type": "code",
        "colab": {}
      },
      "source": [
        "cnn_model.add(MaxPool2D())"
      ],
      "execution_count": 0,
      "outputs": []
    },
    {
      "cell_type": "code",
      "metadata": {
        "id": "iOzGvsKYwmsb",
        "colab_type": "code",
        "colab": {}
      },
      "source": [
        "cnn_model.add(\n",
        "    Conv2D(\n",
        "        filters=64,\n",
        "        kernel_size=[3,3],\n",
        "        strides=(1,1),\n",
        "        padding='valid',\n",
        "        activation='relu'\n",
        "    )\n",
        ")"
      ],
      "execution_count": 0,
      "outputs": []
    },
    {
      "cell_type": "code",
      "metadata": {
        "id": "7ktoA_5EwqKs",
        "colab_type": "code",
        "colab": {}
      },
      "source": [
        "cnn_model.add(MaxPool2D())"
      ],
      "execution_count": 0,
      "outputs": []
    },
    {
      "cell_type": "code",
      "metadata": {
        "id": "5aRduoqGwvEN",
        "colab_type": "code",
        "colab": {}
      },
      "source": [
        "cnn_model.add(\n",
        "    Conv2D(\n",
        "        filters=32,\n",
        "        kernel_size=[3,3],\n",
        "        strides=(1,1),\n",
        "        padding='valid',\n",
        "        activation='relu'\n",
        "    )\n",
        ")"
      ],
      "execution_count": 0,
      "outputs": []
    },
    {
      "cell_type": "code",
      "metadata": {
        "id": "xal0jULuwvBK",
        "colab_type": "code",
        "colab": {}
      },
      "source": [
        "cnn_model.add(MaxPool2D())"
      ],
      "execution_count": 0,
      "outputs": []
    },
    {
      "cell_type": "code",
      "metadata": {
        "id": "4Wedt58lwu--",
        "colab_type": "code",
        "colab": {}
      },
      "source": [
        "cnn_model.add(Flatten())"
      ],
      "execution_count": 0,
      "outputs": []
    },
    {
      "cell_type": "code",
      "metadata": {
        "id": "E5z8OAzSw388",
        "colab_type": "code",
        "colab": {}
      },
      "source": [
        "cnn_model.add(Dense(128, 'relu'))"
      ],
      "execution_count": 0,
      "outputs": []
    },
    {
      "cell_type": "code",
      "metadata": {
        "id": "zC79pdinw6vO",
        "colab_type": "code",
        "colab": {}
      },
      "source": [
        "cnn_model.add(Dense(64, 'relu'))"
      ],
      "execution_count": 0,
      "outputs": []
    },
    {
      "cell_type": "code",
      "metadata": {
        "id": "ukK9hSvtw676",
        "colab_type": "code",
        "colab": {}
      },
      "source": [
        "cnn_model.add(Dense(32, 'relu'))"
      ],
      "execution_count": 0,
      "outputs": []
    },
    {
      "cell_type": "code",
      "metadata": {
        "id": "n5XE5zcDw7HU",
        "colab_type": "code",
        "colab": {}
      },
      "source": [
        "cnn_model.add(Dense(16, 'relu'))"
      ],
      "execution_count": 0,
      "outputs": []
    },
    {
      "cell_type": "code",
      "metadata": {
        "id": "uVfsYHnkw7Tj",
        "colab_type": "code",
        "colab": {}
      },
      "source": [
        "cnn_model.add(Dense(5, 'softmax'))"
      ],
      "execution_count": 0,
      "outputs": []
    },
    {
      "cell_type": "code",
      "metadata": {
        "id": "qUjU5Ii5xDbN",
        "colab_type": "code",
        "colab": {}
      },
      "source": [
        "cnn_model.compile(\n",
        "    optimizer='adam',\n",
        "    loss='sparse_categorical_crossentropy',\n",
        "    metrics=['accuracy']\n",
        ")"
      ],
      "execution_count": 0,
      "outputs": []
    },
    {
      "cell_type": "code",
      "metadata": {
        "id": "-cPS5aAlxHK3",
        "colab_type": "code",
        "colab": {
          "base_uri": "https://localhost:8080/",
          "height": 763
        },
        "outputId": "4751d613-a6b3-41f6-a75e-8821639940f4"
      },
      "source": [
        "cnn_model.summary()"
      ],
      "execution_count": 25,
      "outputs": [
        {
          "output_type": "stream",
          "text": [
            "Model: \"sequential\"\n",
            "_________________________________________________________________\n",
            "Layer (type)                 Output Shape              Param #   \n",
            "=================================================================\n",
            "conv2d (Conv2D)              (None, 298, 298, 32)      896       \n",
            "_________________________________________________________________\n",
            "max_pooling2d (MaxPooling2D) (None, 149, 149, 32)      0         \n",
            "_________________________________________________________________\n",
            "conv2d_1 (Conv2D)            (None, 147, 147, 64)      18496     \n",
            "_________________________________________________________________\n",
            "conv2d_2 (Conv2D)            (None, 145, 145, 64)      36928     \n",
            "_________________________________________________________________\n",
            "max_pooling2d_1 (MaxPooling2 (None, 72, 72, 64)        0         \n",
            "_________________________________________________________________\n",
            "conv2d_3 (Conv2D)            (None, 70, 70, 128)       73856     \n",
            "_________________________________________________________________\n",
            "max_pooling2d_2 (MaxPooling2 (None, 35, 35, 128)       0         \n",
            "_________________________________________________________________\n",
            "conv2d_4 (Conv2D)            (None, 33, 33, 64)        73792     \n",
            "_________________________________________________________________\n",
            "max_pooling2d_3 (MaxPooling2 (None, 16, 16, 64)        0         \n",
            "_________________________________________________________________\n",
            "conv2d_5 (Conv2D)            (None, 14, 14, 32)        18464     \n",
            "_________________________________________________________________\n",
            "max_pooling2d_4 (MaxPooling2 (None, 7, 7, 32)          0         \n",
            "_________________________________________________________________\n",
            "flatten (Flatten)            (None, 1568)              0         \n",
            "_________________________________________________________________\n",
            "dense (Dense)                (None, 128)               200832    \n",
            "_________________________________________________________________\n",
            "dense_1 (Dense)              (None, 64)                8256      \n",
            "_________________________________________________________________\n",
            "dense_2 (Dense)              (None, 32)                2080      \n",
            "_________________________________________________________________\n",
            "dense_3 (Dense)              (None, 16)                528       \n",
            "_________________________________________________________________\n",
            "dense_4 (Dense)              (None, 5)                 85        \n",
            "=================================================================\n",
            "Total params: 434,213\n",
            "Trainable params: 434,213\n",
            "Non-trainable params: 0\n",
            "_________________________________________________________________\n"
          ],
          "name": "stdout"
        }
      ]
    },
    {
      "cell_type": "code",
      "metadata": {
        "id": "Rq3qZrf-xMuV",
        "colab_type": "code",
        "colab": {}
      },
      "source": [
        "X_train = X_train.reshape(-1,300, 300, 3)\n",
        "X_test = X_test.reshape(-1, 300, 300, 3)"
      ],
      "execution_count": 0,
      "outputs": []
    },
    {
      "cell_type": "code",
      "metadata": {
        "id": "_gHkCfL3xQ7Z",
        "colab_type": "code",
        "colab": {
          "base_uri": "https://localhost:8080/",
          "height": 567
        },
        "outputId": "d6822d37-fb75-4105-d06b-08704d62b08c"
      },
      "source": [
        "cnn_model.fit(\n",
        "    X_train,\n",
        "    y_train,\n",
        "    batch_size=60,\n",
        "    epochs=15,\n",
        "    validation_split=0.1\n",
        ")"
      ],
      "execution_count": 27,
      "outputs": [
        {
          "output_type": "stream",
          "text": [
            "Epoch 1/15\n",
            "48/48 [==============================] - 17s 355ms/step - loss: 1.8584 - accuracy: 0.2903 - val_loss: 1.5832 - val_accuracy: 0.2254\n",
            "Epoch 2/15\n",
            "48/48 [==============================] - 16s 329ms/step - loss: 1.4998 - accuracy: 0.3111 - val_loss: 1.3841 - val_accuracy: 0.3714\n",
            "Epoch 3/15\n",
            "48/48 [==============================] - 16s 330ms/step - loss: 1.3215 - accuracy: 0.4198 - val_loss: 1.2381 - val_accuracy: 0.4254\n",
            "Epoch 4/15\n",
            "48/48 [==============================] - 16s 330ms/step - loss: 1.2464 - accuracy: 0.4642 - val_loss: 1.1853 - val_accuracy: 0.4984\n",
            "Epoch 5/15\n",
            "48/48 [==============================] - 16s 329ms/step - loss: 1.1690 - accuracy: 0.5019 - val_loss: 1.1224 - val_accuracy: 0.5016\n",
            "Epoch 6/15\n",
            "48/48 [==============================] - 16s 328ms/step - loss: 1.0705 - accuracy: 0.5711 - val_loss: 1.2277 - val_accuracy: 0.4603\n",
            "Epoch 7/15\n",
            "48/48 [==============================] - 16s 328ms/step - loss: 1.1039 - accuracy: 0.5517 - val_loss: 1.1843 - val_accuracy: 0.5429\n",
            "Epoch 8/15\n",
            "48/48 [==============================] - 16s 329ms/step - loss: 1.0320 - accuracy: 0.5806 - val_loss: 1.0916 - val_accuracy: 0.5778\n",
            "Epoch 9/15\n",
            "48/48 [==============================] - 16s 328ms/step - loss: 1.0130 - accuracy: 0.6007 - val_loss: 1.0003 - val_accuracy: 0.5873\n",
            "Epoch 10/15\n",
            "48/48 [==============================] - 16s 328ms/step - loss: 0.8742 - accuracy: 0.6522 - val_loss: 1.0905 - val_accuracy: 0.5619\n",
            "Epoch 11/15\n",
            "48/48 [==============================] - 16s 328ms/step - loss: 0.8305 - accuracy: 0.6818 - val_loss: 1.1609 - val_accuracy: 0.5778\n",
            "Epoch 12/15\n",
            "48/48 [==============================] - 16s 328ms/step - loss: 0.7655 - accuracy: 0.6966 - val_loss: 0.9966 - val_accuracy: 0.5905\n",
            "Epoch 13/15\n",
            "48/48 [==============================] - 16s 328ms/step - loss: 0.6854 - accuracy: 0.7330 - val_loss: 1.3607 - val_accuracy: 0.5524\n",
            "Epoch 14/15\n",
            "48/48 [==============================] - 16s 329ms/step - loss: 0.6174 - accuracy: 0.7594 - val_loss: 1.0858 - val_accuracy: 0.6095\n",
            "Epoch 15/15\n",
            "48/48 [==============================] - 16s 329ms/step - loss: 0.5307 - accuracy: 0.8021 - val_loss: 1.2903 - val_accuracy: 0.6698\n"
          ],
          "name": "stdout"
        },
        {
          "output_type": "execute_result",
          "data": {
            "text/plain": [
              "<tensorflow.python.keras.callbacks.History at 0x7fcdc0372d68>"
            ]
          },
          "metadata": {
            "tags": []
          },
          "execution_count": 27
        }
      ]
    },
    {
      "cell_type": "code",
      "metadata": {
        "id": "GKXf4T2X_KXB",
        "colab_type": "code",
        "colab": {}
      },
      "source": [
        "pred = cnn_model.predict(X_test,batch_size=60)"
      ],
      "execution_count": 0,
      "outputs": []
    },
    {
      "cell_type": "code",
      "metadata": {
        "id": "uoPwviEP_jc1",
        "colab_type": "code",
        "colab": {
          "base_uri": "https://localhost:8080/",
          "height": 34
        },
        "outputId": "3fd13ae0-e93b-45ae-b031-36c6dc97d4b4"
      },
      "source": [
        "pred.shape"
      ],
      "execution_count": 29,
      "outputs": [
        {
          "output_type": "execute_result",
          "data": {
            "text/plain": [
              "(350, 5)"
            ]
          },
          "metadata": {
            "tags": []
          },
          "execution_count": 29
        }
      ]
    },
    {
      "cell_type": "code",
      "metadata": {
        "id": "nbdEI2S__lWP",
        "colab_type": "code",
        "colab": {
          "base_uri": "https://localhost:8080/",
          "height": 247
        },
        "outputId": "c3c15e0b-2463-4a9f-c11f-944f3ea59c5c"
      },
      "source": [
        "pred"
      ],
      "execution_count": 30,
      "outputs": [
        {
          "output_type": "execute_result",
          "data": {
            "text/plain": [
              "array([[2.6362509e-02, 2.5514501e-01, 6.9763726e-01, 1.2967570e-02,\n",
              "        7.8876624e-03],\n",
              "       [4.2663160e-06, 9.7614449e-01, 4.1802641e-04, 2.7819915e-04,\n",
              "        2.3154937e-02],\n",
              "       [1.8894483e-04, 7.1930522e-01, 1.4779787e-01, 4.1096573e-04,\n",
              "        1.3229701e-01],\n",
              "       ...,\n",
              "       [9.9897683e-01, 4.7849285e-06, 1.2053263e-05, 1.0043869e-03,\n",
              "        1.9935935e-06],\n",
              "       [6.1260611e-01, 1.1406517e-05, 1.7157932e-03, 3.8565975e-01,\n",
              "        6.9122752e-06],\n",
              "       [1.2564963e-01, 8.6261825e-06, 6.6761202e-01, 2.0653450e-01,\n",
              "        1.9516240e-04]], dtype=float32)"
            ]
          },
          "metadata": {
            "tags": []
          },
          "execution_count": 30
        }
      ]
    },
    {
      "cell_type": "code",
      "metadata": {
        "id": "GLzpn8pHAwuQ",
        "colab_type": "code",
        "colab": {
          "base_uri": "https://localhost:8080/",
          "height": 301
        },
        "outputId": "40b8df32-9e9f-4925-9e8e-4e38e6f2c2bb"
      },
      "source": [
        "y_test"
      ],
      "execution_count": 33,
      "outputs": [
        {
          "output_type": "execute_result",
          "data": {
            "text/plain": [
              "array([2, 1, 1, 0, 4, 4, 3, 2, 1, 4, 1, 1, 4, 0, 0, 3, 3, 0, 4, 1, 0, 1,\n",
              "       4, 2, 2, 4, 3, 3, 0, 2, 3, 1, 2, 3, 1, 0, 3, 4, 4, 3, 4, 0, 2, 1,\n",
              "       4, 3, 0, 0, 3, 1, 1, 0, 3, 1, 0, 3, 2, 3, 4, 1, 3, 1, 1, 2, 1, 1,\n",
              "       0, 2, 4, 4, 1, 1, 2, 0, 1, 0, 4, 2, 2, 0, 1, 3, 3, 3, 0, 4, 3, 4,\n",
              "       2, 0, 3, 3, 0, 4, 1, 3, 2, 2, 1, 2, 1, 1, 4, 2, 0, 0, 0, 3, 4, 2,\n",
              "       0, 3, 2, 3, 4, 1, 4, 2, 0, 1, 0, 4, 3, 2, 2, 2, 2, 2, 2, 4, 4, 4,\n",
              "       3, 3, 4, 3, 3, 4, 0, 4, 2, 4, 1, 2, 4, 0, 3, 0, 0, 1, 3, 4, 4, 3,\n",
              "       0, 1, 0, 0, 3, 2, 2, 2, 3, 1, 0, 3, 3, 2, 2, 2, 4, 2, 1, 1, 0, 4,\n",
              "       2, 2, 0, 0, 1, 4, 3, 3, 4, 1, 3, 2, 4, 1, 1, 4, 4, 3, 3, 4, 1, 4,\n",
              "       4, 4, 4, 4, 1, 1, 3, 0, 0, 2, 2, 1, 0, 4, 4, 2, 4, 4, 0, 2, 0, 1,\n",
              "       2, 3, 0, 3, 1, 1, 0, 2, 1, 0, 1, 1, 0, 0, 4, 0, 2, 1, 0, 3, 3, 3,\n",
              "       3, 2, 3, 2, 0, 2, 1, 2, 1, 4, 3, 4, 3, 2, 3, 3, 0, 1, 3, 2, 3, 4,\n",
              "       4, 4, 2, 2, 4, 0, 0, 0, 3, 4, 2, 1, 3, 4, 2, 1, 0, 0, 2, 0, 0, 1,\n",
              "       2, 0, 4, 4, 2, 2, 0, 0, 1, 1, 2, 3, 1, 0, 0, 3, 1, 2, 3, 2, 1, 1,\n",
              "       2, 1, 4, 3, 2, 3, 4, 1, 3, 2, 2, 4, 0, 4, 1, 2, 0, 3, 1, 3, 1, 1,\n",
              "       3, 1, 1, 4, 4, 2, 1, 3, 0, 3, 4, 3, 2, 4, 0, 4, 0, 0, 0, 0])"
            ]
          },
          "metadata": {
            "tags": []
          },
          "execution_count": 33
        }
      ]
    },
    {
      "cell_type": "code",
      "metadata": {
        "id": "E8YitV1rAdTU",
        "colab_type": "code",
        "colab": {
          "base_uri": "https://localhost:8080/",
          "height": 34
        },
        "outputId": "03c69c56-5a4e-478b-c52a-ee69a384bf1f"
      },
      "source": [
        "from keras.models import model_from_json"
      ],
      "execution_count": 31,
      "outputs": [
        {
          "output_type": "stream",
          "text": [
            "Using TensorFlow backend.\n"
          ],
          "name": "stderr"
        }
      ]
    },
    {
      "cell_type": "code",
      "metadata": {
        "id": "5qTeSwlWAohS",
        "colab_type": "code",
        "colab": {
          "base_uri": "https://localhost:8080/",
          "height": 34
        },
        "outputId": "e4b4e5f2-3447-417f-8930-dd4ddf91c13d"
      },
      "source": [
        "# serialize model to JSON\n",
        "model_json = cnn_model.to_json()\n",
        "with open(\"/content/fmodel.json\", \"w\") as json_file:\n",
        "    json_file.write(model_json)\n",
        "# serialize weights to HDF5\n",
        "cnn_model.save_weights(\"/content/fmodel.h5\")\n",
        "print(\"Saved model to disk\")"
      ],
      "execution_count": 32,
      "outputs": [
        {
          "output_type": "stream",
          "text": [
            "Saved model to disk\n"
          ],
          "name": "stdout"
        }
      ]
    }
  ]
}