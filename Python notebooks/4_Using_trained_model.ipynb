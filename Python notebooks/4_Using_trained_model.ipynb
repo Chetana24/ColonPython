{
  "nbformat": 4,
  "nbformat_minor": 0,
  "metadata": {
    "colab": {
      "name": "4. Using trained model",
      "provenance": [],
      "toc_visible": true
    },
    "kernelspec": {
      "name": "python3",
      "display_name": "Python 3"
    }
  },
  "cells": [
    {
      "cell_type": "markdown",
      "metadata": {
        "id": "H9aZdHN6BuHI",
        "colab_type": "text"
      },
      "source": [
        "#**4. Using trained model**"
      ]
    },
    {
      "cell_type": "code",
      "metadata": {
        "id": "93DCKAV6BovT",
        "colab_type": "code",
        "colab": {}
      },
      "source": [
        "import tensorflow as tf\n",
        "from tensorflow.keras.models import Sequential\n",
        "from tensorflow.keras.layers import Conv2D, MaxPool2D\n",
        "from tensorflow.keras.layers import Flatten, Dense, Dropout\n",
        "from keras.models import model_from_json"
      ],
      "execution_count": 0,
      "outputs": []
    },
    {
      "cell_type": "code",
      "metadata": {
        "id": "guCF55xPCJ-i",
        "colab_type": "code",
        "colab": {}
      },
      "source": [
        "# load json and create model\n",
        "json_file = open('/content/fmodel (1).json', 'r')\n",
        "loaded_model_json = json_file.read()\n",
        "json_file.close()\n",
        "loaded_model = tf.keras.models.model_from_json(loaded_model_json)\n",
        "# load weights into new model\n",
        "loaded_model.load_weights(\"/content/fmodel (1).h5\")"
      ],
      "execution_count": 0,
      "outputs": []
    },
    {
      "cell_type": "code",
      "metadata": {
        "id": "1aEC1k19C1Ou",
        "colab_type": "code",
        "colab": {}
      },
      "source": [
        "loaded_model.compile(\n",
        "    optimizer='adam',\n",
        "    loss='sparse_categorical_crossentropy',\n",
        "    metrics=['accuracy']\n",
        ")"
      ],
      "execution_count": 0,
      "outputs": []
    },
    {
      "cell_type": "markdown",
      "metadata": {
        "id": "RG8gYFzIEwl9",
        "colab_type": "text"
      },
      "source": [
        "Need to complete from here"
      ]
    },
    {
      "cell_type": "code",
      "metadata": {
        "id": "ROcaolp5DQKL",
        "colab_type": "code",
        "colab": {}
      },
      "source": [
        "pred = loaded_model.predict()"
      ],
      "execution_count": 0,
      "outputs": []
    }
  ]
}