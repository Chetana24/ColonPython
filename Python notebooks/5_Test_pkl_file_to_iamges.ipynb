{
  "nbformat": 4,
  "nbformat_minor": 0,
  "metadata": {
    "colab": {
      "name": "5. Test pkl file to iamges",
      "provenance": []
    },
    "kernelspec": {
      "name": "python3",
      "display_name": "Python 3"
    }
  },
  "cells": [
    {
      "cell_type": "markdown",
      "metadata": {
        "id": "dzACYuWELB_l",
        "colab_type": "text"
      },
      "source": [
        "#**1. Test pkl files to images**"
      ]
    },
    {
      "cell_type": "code",
      "metadata": {
        "id": "B8P1xl5hEo3S",
        "colab_type": "code",
        "outputId": "85ddfdd6-9837-4cf3-e18f-589aca8a8bae",
        "colab": {
          "base_uri": "https://localhost:8080/",
          "height": 125
        }
      },
      "source": [
        "from google.colab import drive\n",
        "drive.mount('/content/drive')"
      ],
      "execution_count": 0,
      "outputs": [
        {
          "output_type": "stream",
          "text": [
            "Go to this URL in a browser: https://accounts.google.com/o/oauth2/auth?client_id=947318989803-6bn6qk8qdgf4n4g3pfee6491hc0brc4i.apps.googleusercontent.com&redirect_uri=urn%3aietf%3awg%3aoauth%3a2.0%3aoob&response_type=code&scope=email%20https%3a%2f%2fwww.googleapis.com%2fauth%2fdocs.test%20https%3a%2f%2fwww.googleapis.com%2fauth%2fdrive%20https%3a%2f%2fwww.googleapis.com%2fauth%2fdrive.photos.readonly%20https%3a%2f%2fwww.googleapis.com%2fauth%2fpeopleapi.readonly\n",
            "\n",
            "Enter your authorization code:\n",
            "··········\n",
            "Mounted at /content/drive\n"
          ],
          "name": "stdout"
        }
      ]
    },
    {
      "cell_type": "code",
      "metadata": {
        "id": "KsIFMXGPGuBw",
        "colab_type": "code",
        "colab": {}
      },
      "source": [
        "import pickle\n",
        "\n",
        "X_test=pickle.load(open(\"/content/drive/My Drive/Bin-Py/X_test.pkl\",\"rb\"))"
      ],
      "execution_count": 0,
      "outputs": []
    },
    {
      "cell_type": "code",
      "metadata": {
        "id": "pJjNISOFErZ8",
        "colab_type": "code",
        "colab": {}
      },
      "source": [
        "from keras.preprocessing.image import ImageDataGenerator\n",
        "from keras.preprocessing.image import array_to_img\n",
        "from keras.preprocessing.image import img_to_array\n",
        "from keras.preprocessing.image import load_img "
      ],
      "execution_count": 0,
      "outputs": []
    },
    {
      "cell_type": "code",
      "metadata": {
        "id": "IuHpk2HKH4wn",
        "colab_type": "code",
        "colab": {}
      },
      "source": [
        "import matplotlib.pyplot as plt"
      ],
      "execution_count": 0,
      "outputs": []
    },
    {
      "cell_type": "code",
      "metadata": {
        "id": "su1OgpyFE1ST",
        "colab_type": "code",
        "colab": {}
      },
      "source": [
        "datagen = ImageDataGenerator() \n",
        "\n",
        "for x in X_test:\n",
        "  x = x.reshape((1, ) + x.shape)  \n",
        "  i = 0\n",
        "  for batch in datagen.flow(x, batch_size = 1, \n",
        "                            save_to_dir ='/content/drive/My Drive/Bin-Py/test',  \n",
        "                            save_prefix ='testimage', save_format ='jpg'): \n",
        "      i += 1\n",
        "      if i > 1: \n",
        "          break\n"
      ],
      "execution_count": 0,
      "outputs": []
    }
  ]
}