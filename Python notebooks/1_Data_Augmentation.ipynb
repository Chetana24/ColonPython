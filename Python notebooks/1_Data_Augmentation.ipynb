{
  "nbformat": 4,
  "nbformat_minor": 0,
  "metadata": {
    "colab": {
      "name": "1. Data Augmentation",
      "provenance": [],
      "collapsed_sections": [],
      "toc_visible": true,
      "machine_shape": "hm"
    },
    "kernelspec": {
      "name": "python3",
      "display_name": "Python 3"
    },
    "accelerator": "GPU"
  },
  "cells": [
    {
      "cell_type": "markdown",
      "metadata": {
        "id": "JSrEXCmL-NdU",
        "colab_type": "text"
      },
      "source": [
        "#**1. Data Augmentation**"
      ]
    },
    {
      "cell_type": "markdown",
      "metadata": {
        "id": "GgrTowNk-dIR",
        "colab_type": "text"
      },
      "source": [
        "#Link notebook to drive \n"
      ]
    },
    {
      "cell_type": "code",
      "metadata": {
        "id": "Tt2cXfWkMe3U",
        "colab_type": "code",
        "outputId": "0e962c02-ba32-41be-f559-24beed326f45",
        "colab": {
          "base_uri": "https://localhost:8080/",
          "height": 122
        }
      },
      "source": [
        "from google.colab import drive\n",
        "drive.mount('/content/drive')"
      ],
      "execution_count": 0,
      "outputs": [
        {
          "output_type": "stream",
          "text": [
            "Go to this URL in a browser: https://accounts.google.com/o/oauth2/auth?client_id=947318989803-6bn6qk8qdgf4n4g3pfee6491hc0brc4i.apps.googleusercontent.com&redirect_uri=urn%3aietf%3awg%3aoauth%3a2.0%3aoob&response_type=code&scope=email%20https%3a%2f%2fwww.googleapis.com%2fauth%2fdocs.test%20https%3a%2f%2fwww.googleapis.com%2fauth%2fdrive%20https%3a%2f%2fwww.googleapis.com%2fauth%2fdrive.photos.readonly%20https%3a%2f%2fwww.googleapis.com%2fauth%2fpeopleapi.readonly\n",
            "\n",
            "Enter your authorization code:\n",
            "··········\n",
            "Mounted at /content/drive\n"
          ],
          "name": "stdout"
        }
      ]
    },
    {
      "cell_type": "markdown",
      "metadata": {
        "id": "BIw6d38lOsqE",
        "colab_type": "text"
      },
      "source": [
        "#Data Augmentation\n",
        "Since our dataset had fewer and unequal examples of each class we augment data to get equal number of examples for wach class.\n"
      ]
    },
    {
      "cell_type": "code",
      "metadata": {
        "id": "YQTqH-m2pjmp",
        "colab_type": "code",
        "colab": {}
      },
      "source": [
        "from keras.preprocessing.image import ImageDataGenerator\n",
        "from keras.preprocessing.image import array_to_img\n",
        "from keras.preprocessing.image import img_to_array\n",
        "from keras.preprocessing.image import load_img "
      ],
      "execution_count": 0,
      "outputs": []
    },
    {
      "cell_type": "code",
      "metadata": {
        "id": "s52MV7PVpqNY",
        "colab_type": "code",
        "colab": {}
      },
      "source": [
        "datagen = ImageDataGenerator( \n",
        "        rotation_range = 30, \n",
        "        shear_range = 0.2, \n",
        "        zoom_range = 0.3, \n",
        "        horizontal_flip = True, \n",
        "        brightness_range = (0.5, 1.5)) \n",
        "      \n",
        "img = load_img('/content/drive/My Drive/Bin-Py/Garbage classification/glass/glass118.jpg')  \n",
        "x = img_to_array(img) \n",
        "x = x.reshape((1, ) + x.shape)  \n",
        "i = 0\n",
        "for batch in datagen.flow(x, batch_size = 1, \n",
        "                          save_to_dir ='/content/drive/My Drive/Bin-Py/Garbage classification/2',  \n",
        "                          save_prefix ='modimage', save_format ='jpg'): \n",
        "    i += 1\n",
        "    if i > 5: \n",
        "        break"
      ],
      "execution_count": 0,
      "outputs": []
    }
  ]
}